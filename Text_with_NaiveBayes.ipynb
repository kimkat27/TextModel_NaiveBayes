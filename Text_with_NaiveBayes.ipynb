<<<<<<< Updated upstream
{
  "nbformat": 4,
  "nbformat_minor": 0,
  "metadata": {
    "colab": {
      "provenance": [],
      "include_colab_link": true
    },
    "kernelspec": {
      "name": "python3",
      "display_name": "Python 3"
    },
    "language_info": {
      "name": "python"
    }
  },
  "cells": [
    {
      "cell_type": "markdown",
      "metadata": {
        "id": "view-in-github",
        "colab_type": "text"
      },
      "source": [
        "<a href=\"https://colab.research.google.com/github/kimkat27/TextModel_NaiveBayes/blob/main/Text_with_NaiveBayes.ipynb\" target=\"_parent\"><img src=\"https://colab.research.google.com/assets/colab-badge.svg\" alt=\"Open In Colab\"/></a>"
      ]
    },
    {
      "cell_type": "code",
      "source": [
        "from google.colab import drive\n",
        "drive.mount('/content/drive')"
      ],
      "metadata": {
        "colab": {
          "base_uri": "https://localhost:8080/"
        },
        "id": "GIo4PR0sgnoA",
        "outputId": "847deeac-cfdb-4351-a46b-70899028bcba"
      },
      "execution_count": 1,
      "outputs": [
        {
          "output_type": "stream",
          "name": "stdout",
          "text": [
            "Mounted at /content/drive\n"
          ]
        }
      ]
    },
    {
      "cell_type": "code",
      "source": [
        "import pandas as pd\n",
        "\n",
        "# Assuming the dataset is a CSV file\n",
        "data = pd.read_csv('/content/drive/MyDrive/TextModel_NaiveBayes/tweet_emotions.csv')\n",
        "print(data.head())\n"
      ],
      "metadata": {
        "colab": {
          "base_uri": "https://localhost:8080/"
        },
        "id": "LBvQlCRYgOEi",
        "outputId": "27842ab8-f5ba-4eec-ade0-f6bdd9826bb6"
      },
      "execution_count": 2,
      "outputs": [
        {
          "output_type": "stream",
          "name": "stdout",
          "text": [
            "     tweet_id   sentiment                                            content\n",
            "0  1956967341       empty  @tiffanylue i know  i was listenin to bad habi...\n",
            "1  1956967666     sadness  Layin n bed with a headache  ughhhh...waitin o...\n",
            "2  1956967696     sadness                Funeral ceremony...gloomy friday...\n",
            "3  1956967789  enthusiasm               wants to hang out with friends SOON!\n",
            "4  1956968416     neutral  @dannycastillo We want to trade with someone w...\n"
          ]
        }
      ]
    }
  ]
}
=======
{"nbformat":4,"nbformat_minor":0,"metadata":{"colab":{"provenance":[]},"kernelspec":{"name":"python3","display_name":"Python 3"},"language_info":{"name":"python"}},"cells":[{"cell_type":"code","source":["from google.colab import drive\n","drive.mount('/content/drive')"],"metadata":{"colab":{"base_uri":"https://localhost:8080/"},"id":"GIo4PR0sgnoA","executionInfo":{"status":"ok","timestamp":1737792623327,"user_tz":-480,"elapsed":26187,"user":{"displayName":"KIMBERLY TRIPULCA","userId":"06264182523271799652"}},"outputId":"847deeac-cfdb-4351-a46b-70899028bcba"},"execution_count":1,"outputs":[{"output_type":"stream","name":"stdout","text":["Mounted at /content/drive\n"]}]},{"cell_type":"code","source":["import pandas as pd\n","\n","# Assuming the dataset is a CSV file\n","data = pd.read_csv('/content/drive/MyDrive/TextModel_NaiveBayes/tweet_emotions.csv')\n","print(data.head())\n"],"metadata":{"colab":{"base_uri":"https://localhost:8080/"},"id":"LBvQlCRYgOEi","executionInfo":{"status":"ok","timestamp":1737792988468,"user_tz":-480,"elapsed":1419,"user":{"displayName":"KIMBERLY TRIPULCA","userId":"06264182523271799652"}},"outputId":"27842ab8-f5ba-4eec-ade0-f6bdd9826bb6"},"execution_count":2,"outputs":[{"output_type":"stream","name":"stdout","text":["     tweet_id   sentiment                                            content\n","0  1956967341       empty  @tiffanylue i know  i was listenin to bad habi...\n","1  1956967666     sadness  Layin n bed with a headache  ughhhh...waitin o...\n","2  1956967696     sadness                Funeral ceremony...gloomy friday...\n","3  1956967789  enthusiasm               wants to hang out with friends SOON!\n","4  1956968416     neutral  @dannycastillo We want to trade with someone w...\n"]}]}]}
>>>>>>> Stashed changes
